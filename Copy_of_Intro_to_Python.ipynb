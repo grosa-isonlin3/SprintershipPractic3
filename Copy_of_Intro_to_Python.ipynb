{
  "nbformat": 4,
  "nbformat_minor": 0,
  "metadata": {
    "colab": {
      "provenance": [],
      "include_colab_link": true
    },
    "kernelspec": {
      "name": "python3",
      "display_name": "Python 3"
    },
    "language_info": {
      "name": "python"
    }
  },
  "cells": [
    {
      "cell_type": "markdown",
      "metadata": {
        "id": "view-in-github",
        "colab_type": "text"
      },
      "source": [
        "<a href=\"https://colab.research.google.com/github/grosa-isonlin3/SprintershipPractic3/blob/main/Copy_of_Intro_to_Python.ipynb\" target=\"_parent\"><img src=\"https://colab.research.google.com/assets/colab-badge.svg\" alt=\"Open In Colab\"/></a>"
      ]
    },
    {
      "cell_type": "markdown",
      "source": [
        "# Part 1:"
      ],
      "metadata": {
        "id": "GhaWDMq-82DZ"
      }
    },
    {
      "cell_type": "markdown",
      "source": [
        "#**Variables**\n",
        "Variables = Containers for storing data values​\n",
        "* **Naming Conventions:​**\n",
        "* Variable names should be descriptive and meaningful.​\n",
        "* Use lowercase letters and underscores to separate words (e.g., my_variable).​\n",
        "* Avoid using reserved keywords/functions (if, else, for, input, etc.)​"
      ],
      "metadata": {
        "id": "QHiLI2IJ5w0u"
      }
    },
    {
      "cell_type": "code",
      "source": [
        "print (\"Hello World!\")"
      ],
      "metadata": {
        "colab": {
          "base_uri": "https://localhost:8080/"
        },
        "id": "K5rfiyyE4JIH",
        "outputId": "cda58c6b-5b8a-4fd1-8990-9afe618b0f24"
      },
      "execution_count": null,
      "outputs": [
        {
          "output_type": "stream",
          "name": "stdout",
          "text": [
            "Hello World!\n"
          ]
        }
      ]
    },
    {
      "cell_type": "code",
      "source": [
        "print(len(input(\"What is your name\")))\n",
        "username = input(\"What is your name?\")\n",
        "length = len(username)\n",
        "print(length)"
      ],
      "metadata": {
        "id": "IUdyckX5n3RL",
        "colab": {
          "base_uri": "https://localhost:8080/"
        },
        "outputId": "00daa4be-6106-4f0c-bfb5-4aba4618061c"
      },
      "execution_count": null,
      "outputs": [
        {
          "output_type": "stream",
          "name": "stdout",
          "text": [
            "What is your nameGianna Rosa\n",
            "11\n",
            "What is your name?Gianna Ros\n",
            "10\n"
          ]
        }
      ]
    },
    {
      "cell_type": "code",
      "execution_count": null,
      "metadata": {
        "id": "Hjb9IPL_5tcI"
      },
      "outputs": [],
      "source": [
        "# Variables: store data w/ simple assignments\n",
        "# Data Types: Integers, floats, strings, booleans, lists, and dictionaries\n",
        "\n",
        "integer = 42\n",
        "floating = 3.14\n",
        "name = \"John\"\n",
        "is_active = True"
      ]
    },
    {
      "cell_type": "markdown",
      "source": [
        "# **String Concatenation & Manipulation**\n",
        "\n",
        "\n",
        "*   Sequences of characters enclosed in either single quotes (') or double quotes (\"). ​\n",
        "*   To concatenate, or combine, two strings you can use the + operator.​\n",
        "* Must convert non string data types to the string data type​\n",
        "\n",
        "\n"
      ],
      "metadata": {
        "id": "Aj7DV-xD6ZMI"
      }
    },
    {
      "cell_type": "markdown",
      "source": [
        "String Methods\n",
        "* upper(): Converts the string to uppercase​\n",
        "* lower(): Converts the string to lowercase​\n",
        "* strip(): Removes leading and trailing whitespace   ​\n",
        "* split(): Splits the string into a list of substrings based on a delimiter   ​\n",
        "* replace(): Replaces occurrences of one substring with another​\n",
        "* find(): Searches for a substring and returns its index​"
      ],
      "metadata": {
        "id": "FeCh4hOJCbbJ"
      }
    },
    {
      "cell_type": "code",
      "source": [
        "first_name = \"Gianna\"\n",
        "last_name =\"Rosa\"\n",
        "\n",
        "full_name = first_name +\"\"+ last_name\n",
        "upper_case = full_name.upper()\n",
        "lower_case = full_name.lower()\n",
        "print(upper_case)\n",
        "print(lower_case)\n",
        "\n",
        "strip_func = full_name.strip()\n",
        "print(strip_func)\n",
        "\n"
      ],
      "metadata": {
        "colab": {
          "base_uri": "https://localhost:8080/"
        },
        "id": "UQbzW2fA6GOL",
        "outputId": "e560e5be-a59c-4cbd-9915-789e31e15571"
      },
      "execution_count": null,
      "outputs": [
        {
          "output_type": "stream",
          "name": "stdout",
          "text": [
            "GIANNAROSA\n",
            "giannarosa\n",
            "GiannaRosa\n"
          ]
        }
      ]
    },
    {
      "cell_type": "code",
      "source": [
        "first_name= \"Gianna\"\n",
        "last_name= \"Rosa\"\n",
        "\n",
        "print(first_name, last_name)\n"
      ],
      "metadata": {
        "id": "tp7r0sEUHUKA",
        "colab": {
          "base_uri": "https://localhost:8080/"
        },
        "outputId": "f54f5434-8b10-49e4-b0ac-344176019cda"
      },
      "execution_count": null,
      "outputs": [
        {
          "output_type": "stream",
          "name": "stdout",
          "text": [
            "Gianna Rosa\n"
          ]
        }
      ]
    },
    {
      "cell_type": "markdown",
      "source": [
        "# **Boolean Logic**\n",
        "* Deals with two values: True and False​\n",
        "* and: This operator returns True only if both operands are True.​\n",
        "* or: This operator returns True if at least one of the operands is True.​\n",
        "* not: This operator inverts the Boolean value of its operand.​"
      ],
      "metadata": {
        "id": "xt9bJMWH7yZk"
      }
    },
    {
      "cell_type": "code",
      "source": [
        "a = 200\n",
        "b = 33\n",
        "\n",
        "if b > a:\n",
        "  print(\"b is greater than a\")\n",
        "else:\n",
        "  print(\"b is not greater than a\")"
      ],
      "metadata": {
        "id": "jPKhH2Zj7yCG",
        "colab": {
          "base_uri": "https://localhost:8080/"
        },
        "outputId": "232942e8-674f-463c-b3dd-d8c4cba61a2f"
      },
      "execution_count": null,
      "outputs": [
        {
          "output_type": "stream",
          "name": "stdout",
          "text": [
            "b is not greater than a\n"
          ]
        }
      ]
    },
    {
      "cell_type": "markdown",
      "source": [
        "# **Data Structures**\n",
        "- Lists\n",
        "- Dictionary"
      ],
      "metadata": {
        "id": "fP1-Atzh77V6"
      }
    },
    {
      "cell_type": "code",
      "source": [
        "fruits = [\"mango\", \"grapes\", \"apples\", \"starwberry\", \"banana\"]\n",
        "print(fruits)\n",
        "fruits.append(\"blueberry\")\n",
        "print(fruits)"
      ],
      "metadata": {
        "id": "o7FjI9B38xF1",
        "colab": {
          "base_uri": "https://localhost:8080/"
        },
        "outputId": "df1248ca-ee0a-4745-f6cf-00c13eaa76b6"
      },
      "execution_count": null,
      "outputs": [
        {
          "output_type": "stream",
          "name": "stdout",
          "text": [
            "['mango', 'grapes', 'apples', 'starwberry', 'banana']\n",
            "['mango', 'grapes', 'apples', 'starwberry', 'banana', 'blueberry']\n"
          ]
        }
      ]
    },
    {
      "cell_type": "code",
      "source": [
        "thisdict = {\n",
        "  \"brand\": \"Ford\",\n",
        "  \"model\": \"Mustang\",\n",
        "  \"year\": 1964\n",
        "}\n",
        "print(thisdict)"
      ],
      "metadata": {
        "colab": {
          "base_uri": "https://localhost:8080/"
        },
        "id": "LwX2aR1LAZ2g",
        "outputId": "25160f1c-dbe6-4288-b94f-70906b0b0cc1"
      },
      "execution_count": null,
      "outputs": [
        {
          "output_type": "stream",
          "name": "stdout",
          "text": [
            "{'brand': 'Ford', 'model': 'Mustang', 'year': 1964}\n"
          ]
        }
      ]
    },
    {
      "cell_type": "code",
      "source": [
        "#Dictionary\n",
        "person = {\n",
        "\"name\": \"Gianna\" ,\n",
        "\"PID\": 6405406 ,\n",
        "        \"major 1\": \"Computer Science\" ,\n",
        "        \"major 2\": \"Natural Applied Science\" ,\n",
        "        \"minor\": \"Biology\" ,\n",
        "\n",
        "}\n",
        "print(person)"
      ],
      "metadata": {
        "colab": {
          "base_uri": "https://localhost:8080/"
        },
        "id": "eJam5T7aBR34",
        "outputId": "89c78b93-5c02-4f2c-e3ab-8ed8c4525402"
      },
      "execution_count": null,
      "outputs": [
        {
          "output_type": "stream",
          "name": "stdout",
          "text": [
            "{'name': 'Gianna', 'PID': 6405406, 'major 1': 'Computer Science', 'major 2': 'Natural Applied Science', 'minor': 'Biology'}\n"
          ]
        }
      ]
    },
    {
      "cell_type": "markdown",
      "source": [
        "# **Mini-Challenge**"
      ],
      "metadata": {
        "id": "PIR8Bz0t8xiF"
      }
    },
    {
      "cell_type": "markdown",
      "source": [
        "Create a sales data list which is a list of dictionaries. Each dictionary will represent a single transaction\n",
        "\n",
        "Each Sales transaction includes:\n",
        "- customer_name\n",
        "- product_name\n",
        "- quantity\n",
        "-price per unit"
      ],
      "metadata": {
        "id": "0zUevX5zDJlf"
      }
    },
    {
      "cell_type": "code",
      "source": [
        "#Mini Challege Dictionary\n",
        "#client data sets\n",
        "client1 = {\n",
        "    \"client_name\": \"John Smith\",\n",
        "    \"Product_Name\": \"Chairs\",\n",
        "    \"Quantity\":500,\n",
        "    \"price_per_unit\": 156.93\n",
        "}\n",
        "client2 = {\n",
        "    \"client_name\": \"Karen Smith\",\n",
        "    \"Product_Name\": \"Tables\",\n",
        "    \"Quantity\":700,\n",
        "    \"price_per_unit\": 1000\n",
        "}\n",
        "client3 = {\n",
        "    \"client_name\": \"John Michaels\",\n",
        "    \"Product_Name\": \"Laptops\",\n",
        "    \"Quantity\":12000,\n",
        "    \"price_per_unit\": 1563\n",
        "}\n",
        "client4 = {\n",
        "    \"client_name\": \"Ben Dover\",\n",
        "    \"Product_Name\": \"Gucci Slides\",\n",
        "    \"Quantity\":500,\n",
        "    \"price_per_unit\": 400\n",
        "}\n",
        "client5 = {\n",
        "    \"client_name\": \"Jake hall\",\n",
        "    \"Product_Name\": \"Dresser\",\n",
        "    \"Quantity\":664,\n",
        "    \"price_per_unit\": 4500\n",
        "}\n",
        "client6 = {\n",
        "    \"client_name\": \"Sean Paul\",\n",
        "    \"Product_Name\": \"Dolls\",\n",
        "    \"Quantity\": 12 ,\n",
        "    \"price_per_unit\": 1000\n",
        "}\n",
        "client7 = {\n",
        "    \"client_name\": \"James Dean\",\n",
        "    \"Product_Name\": \"PC\",\n",
        "    \"Quantity\":664,\n",
        "    \"price_per_unit\": 2560\n",
        "}\n",
        "client8 = {\n",
        "    \"client_name\": \"Krystal Klear\",\n",
        "    \"Product_Name\": \"Crystals\",\n",
        "    \"Quantity\":1200,\n",
        "    \"price_per_unit\": 2.50\n",
        "}\n",
        "client9 = {\n",
        "    \"client_name\": \"Kathy Baters\",\n",
        "    \"Product_Name\": \"Dresses\",\n",
        "    \"Quantity\":150,\n",
        "    \"price_per_unit\": 200\n",
        "}\n",
        "client10 = {\n",
        "    \"client_name\": \"Agatha Arnolds\",\n",
        "    \"Product_Name\": \"brooms\",\n",
        "    \"Quantity\":685,\n",
        "    \"price_per_unit\": 23\n",
        "}\n",
        "customer = client1, client2, client3, client4, client5, client6, client7 , client8 , client9 , client10\n",
        "\n",
        "for client in customer:\n",
        "  __builtins__.print(client['client_name'])\n",
        "  __builtins__.print(client['Product_Name'])\n",
        "  __builtins__.print(client['Quantity'])\n",
        "  __builtins__.print(client['price_per_unit'])\n",
        "  __builtins__.print(\"-----\")\n",
        "\n",
        "#Give variable to store the total revenue\n",
        "\n",
        "total_revenue = 0\n",
        "for client in customer:\n",
        "#Add all PPU's for total revenue\n",
        " total_revenue+= client[\"price_per_unit\"]\n",
        "\n",
        "#Print the total revenue after loop\n",
        "\n",
        "__builtins__.print(\"Total Revenue:\", total_revenue)\n",
        "\n"
      ],
      "metadata": {
        "id": "nOWAaBPm77Cs",
        "colab": {
          "base_uri": "https://localhost:8080/"
        },
        "outputId": "3d721222-aa93-4503-f91d-b209383df7b4"
      },
      "execution_count": null,
      "outputs": [
        {
          "output_type": "stream",
          "name": "stdout",
          "text": [
            "John Smith\n",
            "Chairs\n",
            "500\n",
            "156.93\n",
            "-----\n",
            "Karen Smith\n",
            "Tables\n",
            "700\n",
            "1000\n",
            "-----\n",
            "John Michaels\n",
            "Laptops\n",
            "12000\n",
            "1563\n",
            "-----\n",
            "Ben Dover\n",
            "Gucci Slides\n",
            "500\n",
            "400\n",
            "-----\n",
            "Jake hall\n",
            "Dresser\n",
            "664\n",
            "4500\n",
            "-----\n",
            "Sean Paul\n",
            "Dolls\n",
            "12\n",
            "1000\n",
            "-----\n",
            "James Dean\n",
            "PC\n",
            "664\n",
            "2560\n",
            "-----\n",
            "Krystal Klear\n",
            "Crystals\n",
            "1200\n",
            "2.5\n",
            "-----\n",
            "Kathy Baters\n",
            "Dresses\n",
            "150\n",
            "200\n",
            "-----\n",
            "Agatha Arnolds\n",
            "brooms\n",
            "685\n",
            "23\n",
            "-----\n",
            "Total Revenue: 11405.43\n"
          ]
        }
      ]
    },
    {
      "cell_type": "code",
      "source": [],
      "metadata": {
        "id": "VGMpARwbGz_V"
      },
      "execution_count": null,
      "outputs": []
    },
    {
      "cell_type": "markdown",
      "source": [
        "Part 2:"
      ],
      "metadata": {
        "id": "uiIihFFQ87mT"
      }
    },
    {
      "cell_type": "markdown",
      "source": [
        "# **Conditional Statements**\n",
        "\n",
        "Conditional statements allow a program to make decisions based on conditions. They help control the flow of execution depending on whether certain conditions evaluate as True or False.\n",
        "\n",
        "1. The if statement runs a block of code only if a given condition is True.\n",
        "\n",
        "2. The else statement executes when the if condition is False.\n",
        "\n",
        "3. When there are multiple conditions, elif allows us to check additional conditions before reaching the final else."
      ],
      "metadata": {
        "id": "Avbitiec8-Pj"
      }
    },
    {
      "cell_type": "code",
      "source": [],
      "metadata": {
        "id": "KCyS23pN9MFl"
      },
      "execution_count": null,
      "outputs": []
    },
    {
      "cell_type": "markdown",
      "source": [
        "# **Functions**"
      ],
      "metadata": {
        "id": "ueqImQxo9NDk"
      }
    },
    {
      "cell_type": "code",
      "source": [],
      "metadata": {
        "id": "MOSiaNav9YFH"
      },
      "execution_count": null,
      "outputs": []
    },
    {
      "cell_type": "markdown",
      "source": [
        "# **Mini-Challenge: Build a Number Guessing Game**\n",
        "\n",
        "**Objective:** Create a simple game where the user tries to guess a secret number. The program will give hints if the guess is too high or too low.\n",
        "\n",
        "* Ask the user to guess a number between 1 and 10.\n",
        "* Use conditional statements (if, elif, else) to check if the guess is correct.\n",
        "* Give hints if the guess is too high or too low.\n",
        "* Allow the user to keep guessing until they get it right."
      ],
      "metadata": {
        "id": "T3y3ImPi9YZi"
      }
    },
    {
      "cell_type": "code",
      "source": [
        "# Generate a secret number between 1 and 10\n",
        "secret_number = 7      #fill in the blank\n",
        "\n",
        "# Ask the user for their first guess\n",
        "guess = int(input(\"Guess a number between 1 and 10: \"))\n",
        "\n",
        "# Check if the guess is correct\n",
        "if guess == secret_number:     #fill in the blank\n",
        "    __builtins__.print(\"Congrats! You guessed the correct number!\")\n",
        "elif guess > 7 :    # fill in the blank\n",
        "    __builtins__.print(\"Too high! Try again.\")\n",
        "elif guess < 5 :               # fill in the blank: if, else, or elif\n",
        "    __builtins__.print(\"Too low! Try again.\")"
      ],
      "metadata": {
        "id": "xP1Hf7Ed9dEM",
        "colab": {
          "base_uri": "https://localhost:8080/"
        },
        "outputId": "9c301fca-7fdc-41b4-b934-1230c0f369ab"
      },
      "execution_count": null,
      "outputs": [
        {
          "output_type": "stream",
          "name": "stdout",
          "text": [
            "Guess a number between 1 and 10: 7\n",
            "Congrats! You guessed the correct number!\n"
          ]
        }
      ]
    }
  ]
}